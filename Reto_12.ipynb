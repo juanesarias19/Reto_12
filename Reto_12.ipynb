{
  "nbformat": 4,
  "nbformat_minor": 0,
  "metadata": {
    "colab": {
      "provenance": []
    },
    "kernelspec": {
      "name": "python3",
      "display_name": "Python 3"
    },
    "language_info": {
      "name": "python"
    }
  },
  "cells": [
    {
      "cell_type": "markdown",
      "source": [
        "### Reto 12 - Clase 18\n",
        "Desarrolle la mayoría de ejercicios en clase. Para cada punto cree un programa individual. Al finalizar suba todo a un repo y subalo al canal reto_12 en slack.\n",
        "\n"
      ],
      "metadata": {
        "id": "TZAo-91Ma11w"
      }
    },
    {
      "cell_type": "markdown",
      "source": [
        "1. Desarrollar un algoritmo que imprima de manera ascendente los valores (todos del mismo tipo) de un diccionario.\n"
      ],
      "metadata": {
        "id": "XZ-p0e7DbCUu"
      }
    },
    {
      "cell_type": "code",
      "execution_count": null,
      "metadata": {
        "id": "X0XyPnb_ako0",
        "colab": {
          "base_uri": "https://localhost:8080/"
        },
        "outputId": "4ff9e3e6-1e79-47ed-80aa-4e8635ec727a"
      },
      "outputs": [
        {
          "output_type": "stream",
          "name": "stdout",
          "text": [
            "Haaland: 23\n",
            "Mbappe: 25\n",
            "Neymar: 32\n",
            "Messi: 36\n",
            "Cristiano Ronaldo: 39\n"
          ]
        }
      ],
      "source": [
        "def obtener_valor(elemento):\n",
        "    return elemento[1]\n",
        "\n",
        "def ordenar_valores(diccionario):\n",
        "    # Ordenar el diccionario por valores usando una función normal\n",
        "    valores_ordenados = sorted(diccionario.items(), key=obtener_valor)\n",
        "\n",
        "    # Imprimir las llaves y valores ordenados\n",
        "    for llave, valor in valores_ordenados:\n",
        "        print(f\"{llave}: {valor}\")\n",
        "\n",
        "# Diccionario de ejemplo\n",
        "datos = {'Messi': 36, 'Cristiano Ronaldo': 39, 'Mbappe': 25, 'Haaland': 23, 'Neymar': 32}\n",
        "\n",
        "# Llamar a la función\n",
        "ordenar_valores(datos)\n"
      ]
    },
    {
      "cell_type": "markdown",
      "source": [
        "2. Desarrollar una función que reciba dos diccionarios como parámetros y los mezcle, es decir, que se construya un nuevo diccionario con las llaves de los dos diccionarios; si hay una clave repetida en ambos diccionarios, se debe asignar el valor que tenga la clave en el primer diccionario.\n"
      ],
      "metadata": {
        "id": "ZuO_ZviLbKR-"
      }
    },
    {
      "cell_type": "code",
      "source": [
        "def mezclar_diccionarios(dic1, dic2):\n",
        "    # Crear un nuevo diccionario\n",
        "    nuevo_diccionario = dict(dic1)  # Copiar el primer diccionario\n",
        "\n",
        "    # Agregar elementos del segundo diccionario\n",
        "    for clave, valor in dic2.items():\n",
        "        if clave not in nuevo_diccionario:\n",
        "            nuevo_diccionario[clave] = valor  # Solo agregar si la clave no existe\n",
        "\n",
        "    return nuevo_diccionario\n",
        "\n",
        "# Ejemplo\n",
        "diccionario1 = {'a': 1, 'b': 2, 'c': 3}\n",
        "diccionario2 = {'b': 4, 'd': 5}\n",
        "\n",
        "resultado = mezclar_diccionarios(diccionario1, diccionario2)\n",
        "print(resultado)  # Salida: {'a': 1, 'b': 2, 'c': 3, 'd': 5}"
      ],
      "metadata": {
        "id": "NqZf5VP1cXHu",
        "colab": {
          "base_uri": "https://localhost:8080/"
        },
        "outputId": "1803a5db-1af8-4bc1-c5be-435b59d1027b"
      },
      "execution_count": null,
      "outputs": [
        {
          "output_type": "stream",
          "name": "stdout",
          "text": [
            "{'a': 1, 'b': 2, 'c': 3, 'd': 5}\n"
          ]
        }
      ]
    },
    {
      "cell_type": "markdown",
      "source": [
        "3. Dado el JSON:\n",
        "\n",
        "```\n",
        "{\n",
        "\t\"jadiazcoronado\":{\n",
        "\t\t\"nombres\": \"Juan Antonio\",\n",
        "\t\t\"apellidos\": \"Diaz Coronado\",\n",
        "\t\t\"edad\":19,\n",
        "\t\t\"colombiano\":true,\n",
        "\t\t\"deportes\":[\"Futbol\",\"Ajedrez\",\"Gimnasia\"]\n",
        "\t},\n",
        "\t\"dmlunasol\":{\n",
        "\t\t\"nombres\": \"Dorotea Maritza\",\n",
        "\t\t\"apellidos\": \"Luna Sol\",\n",
        "\t\t\"edad\":25,\n",
        "\t\t\"colombiano\":false,\n",
        "\t\t\"deportes\":[\"Baloncesto\",\"Ajedrez\",\"Gimnasia\"]\n",
        "\t}\n",
        "}\n",
        "```\n",
        "\n",
        "Cree un programa que lea de un archivo con dicho JSON y:\n",
        "\n",
        "* Imprima los nombres completos (nombre y apellidos) de las personas que practican el deporte ingresado por el usuario.\n",
        "* Imprima los nombres completos (nombre y apellidos) de las personas que est�en en un rango de edades dado por el usuario.\n"
      ],
      "metadata": {
        "id": "w7LI9BGAbbA_"
      }
    },
    {
      "cell_type": "code",
      "source": [
        "import json\n",
        "\n",
        "datos = {\n",
        "    \"jadiazcoronado\": {\n",
        "        \"nombres\": \"Juan Antonio\",\n",
        "        \"apellidos\": \"Diaz Coronado\",\n",
        "        \"edad\": 19,\n",
        "        \"colombiano\": True,\n",
        "        \"deportes\": [\"Futbol\", \"Ajedrez\", \"Gimnasia\"]\n",
        "    },\n",
        "    \"dmlunasol\": {\n",
        "        \"nombres\": \"Dorotea Maritza\",\n",
        "        \"apellidos\": \"Luna Sol\",\n",
        "        \"edad\": 25,\n",
        "        \"colombiano\": False,\n",
        "        \"deportes\": [\"Baloncesto\", \"Ajedrez\", \"Gimnasia\"]\n",
        "    }\n",
        "}\n",
        "\n",
        "def buscar_por_deporte(datos, deporte):\n",
        "    for usuario, info in datos.items():\n",
        "        if deporte in info[\"deportes\"]:\n",
        "            print(f\"{info['nombres']} {info['apellidos']}\")\n",
        "\n",
        "def buscar_por_rango_edad(datos, edad_min, edad_max):\n",
        "    for usuario, info in datos.items():\n",
        "        if edad_min <= info[\"edad\"] <= edad_max:\n",
        "            print(f\"{info['nombres']} {info['apellidos']}\")\n",
        "\n",
        "# Solicitar deporte al usuario\n",
        "deporte_buscar = input(\"Ingrese el deporte: \")\n",
        "print(\"Personas que practican\", deporte_buscar)\n",
        "buscar_por_deporte(datos, deporte_buscar)\n",
        "\n",
        "# Solicitar rango de edad al usuario\n",
        "edad_min = int(input(\"Ingrese la edad mínima: \"))\n",
        "edad_max = int(input(\"Ingrese la edad máxima: \"))\n",
        "print(f\"Personas en el rango de {edad_min}-{edad_max} años:\")\n",
        "buscar_por_rango_edad(datos, edad_min, edad_max)\n"
      ],
      "metadata": {
        "id": "wYqOI9WTcX5u",
        "colab": {
          "base_uri": "https://localhost:8080/"
        },
        "outputId": "21dfd64f-2d1a-45b5-9f1b-10a3fe6527ef"
      },
      "execution_count": 2,
      "outputs": [
        {
          "output_type": "stream",
          "name": "stdout",
          "text": [
            "Ingrese el deporte: futbol\n",
            "Personas que practican futbol\n",
            "Ingrese la edad mínima: 15\n",
            "Ingrese la edad máxima: 35\n",
            "Personas en el rango de 15-35 años:\n",
            "Juan Antonio Diaz Coronado\n",
            "Dorotea Maritza Luna Sol\n"
          ]
        }
      ]
    },
    {
      "cell_type": "markdown",
      "source": [
        "5. A través de un programa conectese a al menos 3 API's , obtenga el JSON, imprimalo y extraiga los pares de llave : valor."
      ],
      "metadata": {
        "id": "Jr2El17Db_R2"
      }
    },
    {
      "cell_type": "code",
      "source": [
        "import requests\n",
        "import json\n",
        "\n",
        "# Función para obtener y procesar datos de una API\n",
        "def obtener_y_procesar_api(url, nombre_api):\n",
        "    respuesta = requests.get(url)\n",
        "    if respuesta.status_code == 200:\n",
        "        datos = respuesta.json()\n",
        "        print(f\"Datos JSON de {nombre_api}:\")\n",
        "        print(json.dumps(datos, indent=4))\n",
        "        print(\"\\nPares de llave:valor:\")\n",
        "        for clave, valor in datos.items():\n",
        "            print(f\"{clave}: {valor}\")\n",
        "    else:\n",
        "        print(f\"Error al conectar a {nombre_api}. Código de estado: {respuesta.status_code}\")\n",
        "\n",
        "# URLs de las APIs\n",
        "urls_apis = {\n",
        "    \"API 1\": \"https://v2.jokeapi.dev/joke/Any\",\n",
        "    \"API 2\": \"https://api.nationalize.io?name=michael\",\n",
        "    \"API 3\": \"https://randomuser.me/api/\"\n",
        "}\n",
        "\n",
        "# Conectar a cada API y procesar los datos\n",
        "for nombre_api, url in urls_apis.items():\n",
        "    print(f\"\\nConectando a {nombre_api}...\")\n",
        "    obtener_y_procesar_api(url, nombre_api)\n",
        "    print(\"\\n\" + \"=\"*50 + \"\\n\")"
      ],
      "metadata": {
        "colab": {
          "base_uri": "https://localhost:8080/"
        },
        "id": "0rGkN2p6GW0W",
        "outputId": "5d7ce427-7240-4381-c9f4-cb7d8097dd1f"
      },
      "execution_count": 10,
      "outputs": [
        {
          "output_type": "stream",
          "name": "stdout",
          "text": [
            "\n",
            "Conectando a API 1...\n",
            "Datos JSON de API 1:\n",
            "{\n",
            "    \"error\": false,\n",
            "    \"category\": \"Programming\",\n",
            "    \"type\": \"twopart\",\n",
            "    \"setup\": \"What do you call a developer who doesn't comment code?\",\n",
            "    \"delivery\": \"A developer.\",\n",
            "    \"flags\": {\n",
            "        \"nsfw\": false,\n",
            "        \"religious\": false,\n",
            "        \"political\": false,\n",
            "        \"racist\": false,\n",
            "        \"sexist\": false,\n",
            "        \"explicit\": false\n",
            "    },\n",
            "    \"id\": 14,\n",
            "    \"safe\": true,\n",
            "    \"lang\": \"en\"\n",
            "}\n",
            "\n",
            "Pares de llave:valor:\n",
            "error: False\n",
            "category: Programming\n",
            "type: twopart\n",
            "setup: What do you call a developer who doesn't comment code?\n",
            "delivery: A developer.\n",
            "flags: {'nsfw': False, 'religious': False, 'political': False, 'racist': False, 'sexist': False, 'explicit': False}\n",
            "id: 14\n",
            "safe: True\n",
            "lang: en\n",
            "\n",
            "==================================================\n",
            "\n",
            "\n",
            "Conectando a API 2...\n",
            "Datos JSON de API 2:\n",
            "{\n",
            "    \"count\": 129385,\n",
            "    \"name\": \"michael\",\n",
            "    \"country\": [\n",
            "        {\n",
            "            \"country_id\": \"NG\",\n",
            "            \"probability\": 0.08072891893012198\n",
            "        },\n",
            "        {\n",
            "            \"country_id\": \"CY\",\n",
            "            \"probability\": 0.07509944218012053\n",
            "        },\n",
            "        {\n",
            "            \"country_id\": \"GH\",\n",
            "            \"probability\": 0.05387078281978828\n",
            "        },\n",
            "        {\n",
            "            \"country_id\": \"CN\",\n",
            "            \"probability\": 0.03992310598585022\n",
            "        },\n",
            "        {\n",
            "            \"country_id\": \"US\",\n",
            "            \"probability\": 0.03816919836588408\n",
            "        }\n",
            "    ]\n",
            "}\n",
            "\n",
            "Pares de llave:valor:\n",
            "count: 129385\n",
            "name: michael\n",
            "country: [{'country_id': 'NG', 'probability': 0.08072891893012198}, {'country_id': 'CY', 'probability': 0.07509944218012053}, {'country_id': 'GH', 'probability': 0.05387078281978828}, {'country_id': 'CN', 'probability': 0.03992310598585022}, {'country_id': 'US', 'probability': 0.03816919836588408}]\n",
            "\n",
            "==================================================\n",
            "\n",
            "\n",
            "Conectando a API 3...\n",
            "Datos JSON de API 3:\n",
            "{\n",
            "    \"results\": [\n",
            "        {\n",
            "            \"gender\": \"female\",\n",
            "            \"name\": {\n",
            "                \"title\": \"Miss\",\n",
            "                \"first\": \"Christina\",\n",
            "                \"last\": \"Rhodes\"\n",
            "            },\n",
            "            \"location\": {\n",
            "                \"street\": {\n",
            "                    \"number\": 6804,\n",
            "                    \"name\": \"Henry Street\"\n",
            "                },\n",
            "                \"city\": \"Portarlington\",\n",
            "                \"state\": \"Laois\",\n",
            "                \"country\": \"Ireland\",\n",
            "                \"postcode\": 78214,\n",
            "                \"coordinates\": {\n",
            "                    \"latitude\": \"-3.8610\",\n",
            "                    \"longitude\": \"65.0587\"\n",
            "                },\n",
            "                \"timezone\": {\n",
            "                    \"offset\": \"+9:30\",\n",
            "                    \"description\": \"Adelaide, Darwin\"\n",
            "                }\n",
            "            },\n",
            "            \"email\": \"christina.rhodes@example.com\",\n",
            "            \"login\": {\n",
            "                \"uuid\": \"3c4ea4c7-cf6d-4b2e-8424-f7831005e807\",\n",
            "                \"username\": \"crazywolf543\",\n",
            "                \"password\": \"bigones\",\n",
            "                \"salt\": \"7A1Sj5qp\",\n",
            "                \"md5\": \"363fdb1110d4a80e1aa82439ea0ba2de\",\n",
            "                \"sha1\": \"252d2418c5709df9e4e3ea8022e84ea42baa9646\",\n",
            "                \"sha256\": \"3a6d3f702e5d668b29a5063a381892fb16ffd8290fee402b2e9fdc6e19781e8b\"\n",
            "            },\n",
            "            \"dob\": {\n",
            "                \"date\": \"1976-03-27T10:57:05.166Z\",\n",
            "                \"age\": 48\n",
            "            },\n",
            "            \"registered\": {\n",
            "                \"date\": \"2006-11-19T02:35:37.496Z\",\n",
            "                \"age\": 18\n",
            "            },\n",
            "            \"phone\": \"011-038-5043\",\n",
            "            \"cell\": \"081-380-7379\",\n",
            "            \"id\": {\n",
            "                \"name\": \"PPS\",\n",
            "                \"value\": \"4020807T\"\n",
            "            },\n",
            "            \"picture\": {\n",
            "                \"large\": \"https://randomuser.me/api/portraits/women/6.jpg\",\n",
            "                \"medium\": \"https://randomuser.me/api/portraits/med/women/6.jpg\",\n",
            "                \"thumbnail\": \"https://randomuser.me/api/portraits/thumb/women/6.jpg\"\n",
            "            },\n",
            "            \"nat\": \"IE\"\n",
            "        }\n",
            "    ],\n",
            "    \"info\": {\n",
            "        \"seed\": \"f3fbfeef4ffe989e\",\n",
            "        \"results\": 1,\n",
            "        \"page\": 1,\n",
            "        \"version\": \"1.4\"\n",
            "    }\n",
            "}\n",
            "\n",
            "Pares de llave:valor:\n",
            "results: [{'gender': 'female', 'name': {'title': 'Miss', 'first': 'Christina', 'last': 'Rhodes'}, 'location': {'street': {'number': 6804, 'name': 'Henry Street'}, 'city': 'Portarlington', 'state': 'Laois', 'country': 'Ireland', 'postcode': 78214, 'coordinates': {'latitude': '-3.8610', 'longitude': '65.0587'}, 'timezone': {'offset': '+9:30', 'description': 'Adelaide, Darwin'}}, 'email': 'christina.rhodes@example.com', 'login': {'uuid': '3c4ea4c7-cf6d-4b2e-8424-f7831005e807', 'username': 'crazywolf543', 'password': 'bigones', 'salt': '7A1Sj5qp', 'md5': '363fdb1110d4a80e1aa82439ea0ba2de', 'sha1': '252d2418c5709df9e4e3ea8022e84ea42baa9646', 'sha256': '3a6d3f702e5d668b29a5063a381892fb16ffd8290fee402b2e9fdc6e19781e8b'}, 'dob': {'date': '1976-03-27T10:57:05.166Z', 'age': 48}, 'registered': {'date': '2006-11-19T02:35:37.496Z', 'age': 18}, 'phone': '011-038-5043', 'cell': '081-380-7379', 'id': {'name': 'PPS', 'value': '4020807T'}, 'picture': {'large': 'https://randomuser.me/api/portraits/women/6.jpg', 'medium': 'https://randomuser.me/api/portraits/med/women/6.jpg', 'thumbnail': 'https://randomuser.me/api/portraits/thumb/women/6.jpg'}, 'nat': 'IE'}]\n",
            "info: {'seed': 'f3fbfeef4ffe989e', 'results': 1, 'page': 1, 'version': '1.4'}\n",
            "\n",
            "==================================================\n",
            "\n"
          ]
        }
      ]
    },
    {
      "cell_type": "markdown",
      "source": [
        "4. El siguiente código contiene un JSON con el pronostivo detallado del clima para 8 días:\n",
        "\n",
        "\n",
        "\n",
        "```\n",
        "\n",
        "import json\n",
        "\n",
        "# Cargar archivo\n",
        "jsonString = '''\n",
        "{\\\"dt\\\": {\\\"0\\\": 1685116800, \\\"1\\\": 1685203200, \\\"2\\\": 1685289600, \\\"3\\\": 1685376000, \\\"4\\\": 1685462400, \\\"5\\\": 1685548800, \\\"6\\\": 1685635200, \\\"7\\\": 1685721600}, \\\"sunrise\\\": {\\\"0\\\": 1685097348, \\\"1\\\": 1685183745, \\\"2\\\": 1685270143, \\\"3\\\": 1685356542, \\\"4\\\": 1685442942, \\\"5\\\": 1685529342, \\\"6\\\": 1685615743, \\\"7\\\": 1685702145}, \\\"sunset\\\": {\\\"0\\\": 1685143042, \\\"1\\\": 1685229458, \\\"2\\\": 1685315875, \\\"3\\\": 1685402291, \\\"4\\\": 1685488708, \\\"5\\\": 1685575124, \\\"6\\\": 1685661541, \\\"7\\\": 1685747958}, \\\"moonrise\\\": {\\\"0\\\": 1685118300, \\\"1\\\": 1685207460, \\\"2\\\": 1685296620, \\\"3\\\": 1685385720, \\\"4\\\": 1685474880, \\\"5\\\": 1685564220, \\\"6\\\": 1685653740, \\\"7\\\": 1685743500}, \\\"moonset\\\": {\\\"0\\\": 0, \\\"1\\\": 1685164320, \\\"2\\\": 1685253000, \\\"3\\\": 1685341560, \\\"4\\\": 1685430120, \\\"5\\\": 1685518740, \\\"6\\\": 1685607600, \\\"7\\\": 1685696640}, \\\"moon_phase\\\": {\\\"0\\\": 0.22, \\\"1\\\": 0.25, \\\"2\\\": 0.28, \\\"3\\\": 0.31, \\\"4\\\": 0.35, \\\"5\\\": 0.38, \\\"6\\\": 0.41, \\\"7\\\": 0.45}, \\\"pressure\\\": {\\\"0\\\": 1011, \\\"1\\\": 1012, \\\"2\\\": 1012, \\\"3\\\": 1012, \\\"4\\\": 1012, \\\"5\\\": 1012, \\\"6\\\": 1012, \\\"7\\\": 1011}, \\\"humidity\\\": {\\\"0\\\": 85, \\\"1\\\": 61, \\\"2\\\": 68, \\\"3\\\": 74, \\\"4\\\": 84, \\\"5\\\": 66, \\\"6\\\": 81, \\\"7\\\": 82}, \\\"dew_point\\\": {\\\"0\\\": 23.93, \\\"1\\\": 22.5, \\\"2\\\": 23.67, \\\"3\\\": 23.35, \\\"4\\\": 24.22, \\\"5\\\": 22.73, \\\"6\\\": 23.18, \\\"7\\\": 22.93}, \\\"velViento\\\": {\\\"0\\\": 3.56, \\\"1\\\": 5.07, \\\"2\\\": 5.38, \\\"3\\\": 3.95, \\\"4\\\": 4.74, \\\"5\\\": 3.75, \\\"6\\\": 4.08, \\\"7\\\": 5.94}, \\\"dirViento\\\": {\\\"0\\\": 188, \\\"1\\\": 14, \\\"2\\\": 21, \\\"3\\\": 23, \\\"4\\\": 40, \\\"5\\\": 330, \\\"6\\\": 176, \\\"7\\\": 168}, \\\"wind_gust\\\": {\\\"0\\\": 6.47, \\\"1\\\": 8.86, \\\"2\\\": 8.95, \\\"3\\\": 6.12, \\\"4\\\": 7.17, \\\"5\\\": 5.4, \\\"6\\\": 5.13, \\\"7\\\": 9.67}, \\\"weather\\\": {\\\"0\\\": [{\\\"id\\\": 501, \\\"main\\\": \\\"Rain\\\", \\\"description\\\": \\\"lluvia moderada\\\", \\\"icon\\\": \\\"10d\\\"}], \\\"1\\\": [{\\\"id\\\": 500, \\\"main\\\": \\\"Rain\\\", \\\"description\\\": \\\"lluvia ligera\\\", \\\"icon\\\": \\\"10d\\\"}], \\\"2\\\": [{\\\"id\\\": 501, \\\"main\\\": \\\"Rain\\\", \\\"description\\\": \\\"lluvia moderada\\\", \\\"icon\\\": \\\"10d\\\"}], \\\"3\\\": [{\\\"id\\\": 500, \\\"main\\\": \\\"Rain\\\", \\\"description\\\": \\\"lluvia ligera\\\", \\\"icon\\\": \\\"10d\\\"}], \\\"4\\\": [{\\\"id\\\": 501, \\\"main\\\": \\\"Rain\\\", \\\"description\\\": \\\"lluvia moderada\\\", \\\"icon\\\": \\\"10d\\\"}], \\\"5\\\": [{\\\"id\\\": 500, \\\"main\\\": \\\"Rain\\\", \\\"description\\\": \\\"lluvia ligera\\\", \\\"icon\\\": \\\"10d\\\"}], \\\"6\\\": [{\\\"id\\\": 500, \\\"main\\\": \\\"Rain\\\", \\\"description\\\": \\\"lluvia ligera\\\", \\\"icon\\\": \\\"10d\\\"}], \\\"7\\\": [{\\\"id\\\": 500, \\\"main\\\": \\\"Rain\\\", \\\"description\\\": \\\"lluvia ligera\\\", \\\"icon\\\": \\\"10d\\\"}]}, \\\"clouds\\\": {\\\"0\\\": 100, \\\"1\\\": 82, \\\"2\\\": 99, \\\"3\\\": 100, \\\"4\\\": 100, \\\"5\\\": 59, \\\"6\\\": 100, \\\"7\\\": 100}, \\\"pop\\\": {\\\"0\\\": 1.0, \\\"1\\\": 0.65, \\\"2\\\": 0.98, \\\"3\\\": 0.86, \\\"4\\\": 1.0, \\\"5\\\": 0.62, \\\"6\\\": 0.93, \\\"7\\\": 0.95}, \\\"prcp\\\": {\\\"0\\\": 40.0, \\\"1\\\": 1.65, \\\"2\\\": 14.01, \\\"3\\\": 5.07, \\\"4\\\": 16.55, \\\"5\\\": 2.17, \\\"6\\\": 2.77, \\\"7\\\": 1.73}, \\\"uvi\\\": {\\\"0\\\": 10.14, \\\"1\\\": 12.78, \\\"2\\\": 12.73, \\\"3\\\": 8.44, \\\"4\\\": 0.59, \\\"5\\\": 1.0, \\\"6\\\": 1.0, \\\"7\\\": 1.0}, \\\"temp.day\\\": {\\\"0\\\": 26.62, \\\"1\\\": 30.95, \\\"2\\\": 30.17, \\\"3\\\": 28.37, \\\"4\\\": 27.22, \\\"5\\\": 29.78, \\\"6\\\": 26.83, \\\"7\\\": 26.36}, \\\"tmpMin\\\": {\\\"0\\\": 25.64, \\\"1\\\": 24.64, \\\"2\\\": 25.84, \\\"3\\\": 25.56, \\\"4\\\": 25.72, \\\"5\\\": 24.86, \\\"6\\\": 25.96, \\\"7\\\": 25.47}, \\\"tmpMax\\\": {\\\"0\\\": 27.16, \\\"1\\\": 31.1, \\\"2\\\": 30.2, \\\"3\\\": 29.5, \\\"4\\\": 28.87, \\\"5\\\": 29.78, \\\"6\\\": 28.96, \\\"7\\\": 28.25}, \\\"temp.night\\\": {\\\"0\\\": 25.67, \\\"1\\\": 27.39, \\\"2\\\": 26.24, \\\"3\\\": 27.2, \\\"4\\\": 25.92, \\\"5\\\": 27.14, \\\"6\\\": 26.56, \\\"7\\\": 25.66}, \\\"temp.eve\\\": {\\\"0\\\": 25.91, \\\"1\\\": 28.73, \\\"2\\\": 27.42, \\\"3\\\": 28.27, \\\"4\\\": 27.94, \\\"5\\\": 29.29, \\\"6\\\": 28.96, \\\"7\\\": 28.12}, \\\"temp.morn\\\": {\\\"0\\\": 26.5, \\\"1\\\": 24.64, \\\"2\\\": 26.13, \\\"3\\\": 25.72, \\\"4\\\": 26.04, \\\"5\\\": 24.86, \\\"6\\\": 25.98, \\\"7\\\": 25.57}, \\\"feels_like.day\\\": {\\\"0\\\": 26.62, \\\"1\\\": 34.99, \\\"2\\\": 34.96, \\\"3\\\": 32.03, \\\"4\\\": 30.67, \\\"5\\\": 33.62, \\\"6\\\": 29.45, \\\"7\\\": 26.36}, \\\"feels_like.night\\\": {\\\"0\\\": 26.56, \\\"1\\\": 30.98, \\\"2\\\": 26.24, \\\"3\\\": 30.62, \\\"4\\\": 26.84, \\\"5\\\": 30.16, \\\"6\\\": 26.56, \\\"7\\\": 26.45}, \\\"feels_like.eve\\\": {\\\"0\\\": 26.85, \\\"1\\\": 32.49, \\\"2\\\": 30.94, \\\"3\\\": 31.8, \\\"4\\\": 31.51, \\\"5\\\": 33.17, \\\"6\\\": 32.64, \\\"7\\\": 31.18}, \\\"feels_like.morn\\\": {\\\"0\\\": 26.5, \\\"1\\\": 25.48, \\\"2\\\": 26.13, \\\"3\\\": 26.62, \\\"4\\\": 26.04, \\\"5\\\": 25.73, \\\"6\\\": 25.98, \\\"7\\\": 26.4}, \\\"date\\\": {\\\"0\\\": 1685098800000, \\\"1\\\": 1685185200000, \\\"2\\\": 1685271600000, \\\"3\\\": 1685358000000, \\\"4\\\": 1685444400000, \\\"5\\\": 1685530800000, \\\"6\\\": 1685617200000, \\\"7\\\": 1685703600000}, \\\"main\\\": {\\\"0\\\": \\\"Rain\\\", \\\"1\\\": \\\"Rain\\\", \\\"2\\\": \\\"Rain\\\", \\\"3\\\": \\\"Rain\\\", \\\"4\\\": \\\"Rain\\\", \\\"5\\\": \\\"Rain\\\", \\\"6\\\": \\\"Rain\\\", \\\"7\\\": \\\"Rain\\\"}, \\\"description\\\": {\\\"0\\\": \\\"lluvia moderada\\\", \\\"1\\\": \\\"lluvia ligera\\\", \\\"2\\\": \\\"lluvia moderada\\\", \\\"3\\\": \\\"lluvia ligera\\\", \\\"4\\\": \\\"lluvia moderada\\\", \\\"5\\\": \\\"lluvia ligera\\\", \\\"6\\\": \\\"lluvia ligera\\\", \\\"7\\\": \\\"lluvia ligera\\\"}, \\\"icono\\\": {\\\"0\\\": \\\"10d\\\", \\\"1\\\": \\\"10d\\\", \\\"2\\\": \\\"10d\\\", \\\"3\\\": \\\"10d\\\", \\\"4\\\": \\\"10d\\\", \\\"5\\\": \\\"10d\\\", \\\"6\\\": \\\"10d\\\", \\\"7\\\": \\\"10d\\\"}, \\\"alertPrecip\\\": {\\\"0\\\": \\\"X\\\", \\\"1\\\": \\\"-\\\", \\\"2\\\": \\\"-\\\", \\\"3\\\": \\\"-\\\", \\\"4\\\": \\\"-\\\", \\\"5\\\": \\\"-\\\", \\\"6\\\": \\\"-\\\", \\\"7\\\": \\\"-\\\"}, \\\"alertAlertas\\\": {\\\"0\\\": \\\"-\\\", \\\"1\\\": \\\"-\\\", \\\"2\\\": \\\"-\\\", \\\"3\\\": \\\"-\\\", \\\"4\\\": \\\"-\\\", \\\"5\\\": \\\"-\\\", \\\"6\\\": \\\"-\\\", \\\"7\\\": \\\"-\\\"}, \\\"alertVelViento\\\": {\\\"0\\\": \\\"-\\\", \\\"1\\\": \\\"-\\\", \\\"2\\\": \\\"X\\\", \\\"3\\\": \\\"-\\\", \\\"4\\\": \\\"-\\\", \\\"5\\\": \\\"-\\\", \\\"6\\\": \\\"-\\\", \\\"7\\\": \\\"-\\\"}, \\\"alertTmpMax\\\": {\\\"0\\\": \\\"-\\\", \\\"1\\\": \\\"-\\\", \\\"2\\\": \\\"-\\\", \\\"3\\\": \\\"-\\\", \\\"4\\\": \\\"-\\\", \\\"5\\\": \\\"X\\\", \\\"6\\\": \\\"-\\\", \\\"7\\\": \\\"-\\\"}, \\\"alertTmpMin\\\": {\\\"0\\\": \\\"-\\\", \\\"1\\\": \\\"X\\\", \\\"2\\\": \\\"-\\\", \\\"3\\\": \\\"-\\\", \\\"4\\\": \\\"-\\\", \\\"5\\\": \\\"-\\\", \\\"6\\\": \\\"-\\\", \\\"7\\\": \\\"-\\\"}, \\\"recomendaciones\\\": {\\\"lluvias\\\": \\\"Realice una revisi\\\\u00f3n y limpieza a la red de desague y canales existentes ENTER8 Cuente con una estaci\\\\u00f3n de bombeo, que debe estar ubicada en el punto m\\\\u00e1s bajo del predio. Aseg\\\\u00farese de encender y probar el sistema de bombeo al menos una vez al mes y hacer un mantenimiento mensual al equipo de bombeoENTER8 Los productos alojados en zonas de almacenamiento deben mantenersen sobre estibas - estanterias, con el fin de que no entren en contacto directo con el agua.\\\", \\\"vientos\\\": \\\"-\\\", \\\"temperatura\\\": \\\"-\\\"}}\n",
        "'''\n",
        "\n",
        "```\n",
        "\n",
        "data = json.loads(jsonString)\n",
        "Revise los campos: 'alertAlertas', 'alertPrecip', 'alertTmpMax', 'alertTmpMin', 'alertVelViento'. Para cada uno identifique si se presentan alertas ({0: x} indica que el día 0 habra un fenomeno de la alerta en cuestión, {1:\"-\"} indica que no habrá ningun fenomeno climatico). En caso que se presente una alerta obtenga la fecha del campo 'dt' (aquí pueden revisar como se convierte de UTC a fecha), así como los parametros relevantes del evento (e.g. si es un fenomeno de lluvias, busqye el nivel de lluvia, si es vientos, la velocidad del viuento). Al final deberá imprimir las fechas de alerta, el tipo de alerta y las variables asociadas.\n",
        "\n"
      ],
      "metadata": {
        "id": "kN-QS6gtbig3"
      }
    }
  ]
}